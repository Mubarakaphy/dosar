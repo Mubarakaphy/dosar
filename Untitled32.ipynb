{
  "nbformat": 4,
  "nbformat_minor": 0,
  "metadata": {
    "colab": {
      "provenance": [],
      "authorship_tag": "ABX9TyOzL9aXYVybbWSluITyntME",
      "include_colab_link": true
    },
    "kernelspec": {
      "name": "python3",
      "display_name": "Python 3"
    },
    "language_info": {
      "name": "python"
    }
  },
  "cells": [
    {
      "cell_type": "markdown",
      "metadata": {
        "id": "view-in-github",
        "colab_type": "text"
      },
      "source": [
        "<a href=\"https://colab.research.google.com/github/Mubarakaphy/dosar/blob/master/Untitled32.ipynb\" target=\"_parent\"><img src=\"https://colab.research.google.com/assets/colab-badge.svg\" alt=\"Open In Colab\"/></a>"
      ]
    },
    {
      "cell_type": "markdown",
      "source": [
        "# **Importing Packeges**"
      ],
      "metadata": {
        "id": "IZs1oyYiCthU"
      }
    },
    {
      "cell_type": "code",
      "execution_count": null,
      "metadata": {
        "id": "Xa--bFi9R_b7"
      },
      "outputs": [],
      "source": [
        "import numpy as np\n",
        "from scipy.integrate import odeint, quad\n",
        "import matplotlib.pyplot as plt\n",
        "from scipy.special import kn\n",
        "from IPython.display import display, Math\n",
        "#!pip install scipy\n",
        "from scipy.integrate import solve_ivp"
      ]
    },
    {
      "cell_type": "markdown",
      "source": [
        "# **Constants**\n"
      ],
      "metadata": {
        "id": "mG2ikxjLSTU9"
      }
    },
    {
      "cell_type": "code",
      "source": [
        "# Constants\n",
        "#mphi = 1.14e8 #1e11\n",
        "#mphi = 8.7e12\n",
        "mpl = 1.22e19\n",
        "#Msc = 10**(15/4)\n",
        "alf = 20\n",
        "#mphi = Msc**2/(mpl*np.sqrt(3*alf)) #T-model\n",
        "gst = float(\"106.75\")\n",
        "gP = 2\n",
        "#phiI = (mpl/mphi)**2 #1e20\n",
        "#gam0 = 1e-8\n",
        "mPd = 500\n",
        "mP= mPd\n",
        "gamP = 1.5e-20\n",
        "#gamP = 1.5e-28\n",
        "md = 1\n",
        "mx = md\n",
        "g = 3.77e-11\n",
        "As = 2.09681e-9\n",
        "\n",
        "#r = 2/(3 *np.pi**2 * As) * (M/mpl)**4"
      ],
      "metadata": {
        "id": "S_IhCW92kJhc"
      },
      "execution_count": null,
      "outputs": []
    },
    {
      "cell_type": "markdown",
      "source": [
        "# **Temperatures & Distributions**"
      ],
      "metadata": {
        "id": "7dx2rmtPkQxy"
      }
    },
    {
      "cell_type": "code",
      "source": [
        "# Define mphi\n",
        "def mphi(Msc):\n",
        "    return Msc**2/(mpl*np.sqrt(3*alf))\n",
        "\n",
        "# Define phiI\n",
        "def phiI(Msc):\n",
        "    return (mpl/mphi(Msc))**2\n",
        "\n",
        "# Define T\n",
        "#def T(R, x, Msc):\n",
        " #   return (mphi(Msc)/x)*(30/(np.pi**2 * gst) *R)**(1/4)\n",
        "\n",
        "#def T(R, x, Msc):\n",
        " #   epsilon = 1e-20  # Or another small positive value\n",
        "  #  R = np.maximum(R, 0)  # Force R to be non-negative\n",
        "   # return (mphi(Msc)/x)*(30/(np.pi**2 * gst) * (R + epsilon))**(1/4)\n",
        "\n",
        "def T(R, x, Msc):\n",
        "    epsilon = 1e-20  # Or another small positive value\n",
        "    # Ensure R is non-negative and finite before calculation\n",
        "        # Check if R is an array, if not convert it to one\n",
        "    if not isinstance(R, np.ndarray):\n",
        "        R = np.array(R)\n",
        "        R = np.array(R, dtype=float)  # Convert R to an array of floats\n",
        "\n",
        "    # If R is already an array, ensure its dtype is float:\n",
        "    elif R.dtype != float:\n",
        "        R = R.astype(float)\n",
        "\n",
        "    R = np.clip(R, epsilon, np.finfo(R.dtype).max)  # Clip R to prevent negative or inf values\n",
        "    return (mphi(Msc)/x)*(30/(np.pi**2 * gst) * (R))**(1/4)\n",
        "\n",
        "# Define Fermi-Dirac distribution\n",
        "def nFD(q, R, x, Msc):\n",
        "    return 1 / (np.exp(q/T(R, x, Msc)) + 1)\n",
        "\n",
        "# Define TR\n",
        "def TR(gam0):\n",
        "    return np.sqrt(gam0 * mpl) * (90 / (8 * np.pi**3 * gst))**(1 / 4)\n",
        "\n",
        "# Define T, H and gamma\n",
        "def H(P, R, x, Msc):\n",
        "    return np.sqrt(8 * np.pi / 3) * (mphi(Msc)**2 / mpl) * np.sqrt(R / x**4 + P / x**3)\n",
        "\n",
        "\n",
        "# Define an event function to detect rapid changes in the solution\n",
        "def event_rapid_change(gam0, gam2, Cof, Msc):\n",
        "    def event(t, y):\n",
        "        # Calculate a measure of the rate of change of the solution\n",
        "        # For example, you could use the derivative of P, R, or D\n",
        "        dP_dx = G1(y[0], y[1], t, gam0, gam2, Msc)  # Assuming G1 calculates the derivative of P\n",
        "        # Set a threshold for the rate of change\n",
        "        threshold = 1e10  # Adjust this value as needed\n",
        "        # Return a value that crosses zero when the threshold is exceeded\n",
        "        return np.abs(dP_dx) - threshold\n",
        "\n",
        "# Set event detection properties\n",
        "event_rapid_change.terminal = True  # Terminate integration when the event occurs\n",
        "event_rapid_change.direction = 0  # Detect events when the return value crosses zero in any direction\n",
        "\n",
        "# Wrap the event function for solve_ivp\n",
        "def event_wrapper(x, y, gam0, gam2, Cof, Msc):\n",
        "    return event_rapid_change(x, y, gam0, gam2, Cof, Msc)\n"
      ],
      "metadata": {
        "id": "bXTiaW9AkjYY"
      },
      "execution_count": null,
      "outputs": []
    },
    {
      "cell_type": "markdown",
      "source": [
        "# **Using Julia's Rate**"
      ],
      "metadata": {
        "id": "86sglf0Tkoqf"
      }
    },
    {
      "cell_type": "code",
      "source": [
        "def gam(R, x, gam0, gam2, Msc):\n",
        "    return gam0 + gam2 * T(R, x, Msc) / mphi(Msc) #T(R, x)**2 / mphi**2\n",
        "\n",
        "# Let's define the RHS of BEs as the functions G1, G2 and G3\n",
        "def G21(P, R, x, gam0, gam2, Msc):\n",
        "    return -(gam(R, x, gam0, gam2, Msc) / (H(P, R, x, Msc) * x)) * P\n",
        "\n",
        "def G22(P, R, x, gam0, gam2, Msc):\n",
        "    return (gam(R, x, gam0, gam2, Msc) / H(P, R, x, Msc)) * P\n",
        "\n",
        "def cdm(R, x, Msc):\n",
        "    return (gP/(2 * np.pi**2)) * gamP * mPd**2 * T(R, x, Msc) * kn(1,mPd/T(R, x, Msc))\n",
        "\n",
        "def G33(P, R, x, Msc):\n",
        "   # return cdm(R, x)/ (x *H(P, R, x) * sn(x))\n",
        "    return (x**2/ (mphi(Msc)**3 *H(P, R, x, Msc))) * cdm(R, x, Msc)\n",
        "\n",
        "# Coupled Boltzmann equations\n",
        "def boltzmann_eqs2(x, y, gam0, gam2, Msc):\n",
        "      # Handle the case where y is a single float (initial step of solve_ivp)\n",
        "    if isinstance(y, float):  # Check if y is a float\n",
        "        y = [y] * 3      # Create a list of three identical values\n",
        "        # --- Change: Convert y to a NumPy array before reshaping ---\n",
        "#    y = np.array(y)  # Convert y to a NumPy array\n",
        "  # and when y is a 2D array (vectorized call from solve_ivp)\n",
        " #   y = y.reshape(-1)  # Flatten y if it's 2D\n",
        "    y = np.asarray(y).reshape(-1)  # Flatten y if it's 2D or convert to array if float\n",
        "\n",
        "    P, R, D = y[0], y[1], y[2] # Extract values after reshaping\n",
        "\n",
        "    P, R, D = y\n",
        "    dP_dx = G21(P, R, x, gam0, gam2, Msc)\n",
        "    dR_dx = G22(P, R, x, gam0, gam2, Msc)\n",
        "    dD_dx = G33(P, R, x, Msc)\n",
        "    return [dP_dx, dR_dx, dD_dx]"
      ],
      "metadata": {
        "id": "tfbaD138krZj"
      },
      "execution_count": null,
      "outputs": []
    },
    {
      "cell_type": "markdown",
      "source": [
        "# **Using Fermi-like Rate**"
      ],
      "metadata": {
        "id": "R4akH0j9lDdp"
      }
    },
    {
      "cell_type": "code",
      "source": [
        "\n",
        "\n",
        "# Replace the original cdm(R, x) function with cdmI(...)\n",
        "def cdmI_replacement(R, x, Cof, Msc):\n",
        "    return Cof *T(R,x, Msc)**8\n",
        "\n",
        "# Let's define the RHS of BEs as the functions G1, G2 and G3\n",
        "def G1(P, R, x, gam0, gam2, Msc):\n",
        "    return -(gam(R, x, gam0, gam2, Msc) / (H(P, R, x, Msc) * x)) * P\n",
        "\n",
        "def G2(P, R, x, gam0, gam2, Msc):\n",
        "    return (gam(R, x, gam0, gam2, Msc) / H(P, R, x, Msc)) * P\n",
        "\n",
        "def G3(P, R, x, Cof, Msc):\n",
        "    return (x**2/ (mphi(Msc)**3 *H(P, R, x, Msc))) * cdmI_replacement(R, x, Cof, Msc)\n",
        "\n",
        "# Coupled Boltzmann equations\n",
        "def boltzmann_eqs(x, y, gam0, gam2, Cof, Msc):\n",
        "      # Handle the case where y is a single float (initial step of solve_ivp)\n",
        "    if isinstance(y, float):  # Check if y is a float\n",
        "        y = [y] * 3      # Create a list of three identical values\n",
        "  # and when y is a 2D array (vectorized call from solve_ivp)\n",
        "#    y = np.array(y)\n",
        "#    y = y.reshape(-1)  # Flatten y if it's 2D\n",
        "    y = np.asarray(y).reshape(-1)  # Flatten y if it's 2D or convert to array if float\n",
        "\n",
        "\n",
        "    P, R, D = y[0], y[1], y[2] # Extract values after reshaping\n",
        "\n",
        "    P, R, D = y\n",
        "    dP_dx = G1(P, R, x, gam0, gam2, Msc)\n",
        "    dR_dx = G2(P, R, x, gam0, gam2, Msc)\n",
        "    dD_dx = G3(P, R, x, Cof, Msc)\n",
        "    return [dP_dx, dR_dx, dD_dx]\n"
      ],
      "metadata": {
        "id": "ECk0Ua1LlFm3"
      },
      "execution_count": null,
      "outputs": []
    },
    {
      "cell_type": "markdown",
      "source": [
        "# **Initial conditions**\n"
      ],
      "metadata": {
        "id": "DrvqPLCXldOe"
      }
    },
    {
      "cell_type": "code",
      "source": [
        "# Define Initial conditions\n",
        "def initial_conditions(Msc):\n",
        "    return [phiI(Msc), 0, 0]\n",
        "\n",
        "# Define the original x_span\n",
        "x_span_original = np.logspace(0, 20, num=200)\n",
        "\n",
        "# Identify the problematic region (e.g., x values around 1e10)\n",
        "x_problematic_start = 1e9  # Adjust these values based on where the issue occurs\n",
        "x_problematic_end = 1e11\n",
        "\n",
        "# Create a finer grid for the problematic region\n",
        "x_span_refined = np.logspace(np.log10(x_problematic_start), np.log10(x_problematic_end), num=500)\n",
        "\n",
        "# Combine the original and refined x_spans\n",
        "x_span = np.concatenate([x_span_original[x_span_original < x_problematic_start],\n",
        "                        x_span_refined,\n",
        "                        x_span_original[x_span_original > x_problematic_end]])\n",
        "\n",
        "# Now use the modified x_span in your solve_ivp calls\n"
      ],
      "metadata": {
        "id": "3ZRkPIEulh-Z"
      },
      "execution_count": null,
      "outputs": []
    },
    {
      "cell_type": "markdown",
      "source": [
        "# **Values of gam0, gam2 & cof**"
      ],
      "metadata": {
        "id": "UqauTpkYlruo"
      }
    },
    {
      "cell_type": "code",
      "source": [
        "# Different values of gam0\n",
        "#gam0_values = [1e-15, 1e-16, 1e-17, 1e-20]\n",
        "gam0_values = [2.3e-9, 2.325e-9, 2.345e-9, 2.4e-9, 1e-18]\n",
        "#gam0_values = np.logspace(np.log10(2.1e9), np.log10(2.5e9), num=2)\n",
        "#gam0_values = [1e-9, 2e-9, 3e-9, 4e-9]\n",
        "#gam0_values = [1e-11, 2e-11, 3e-11, 5e-11]#, 1e-13]\n",
        "#gam2_values = [1e-10, 1e-11, 1e-12]#, 1e-15]#, 1e-20]\n",
        "gam2_values = [0]#1e-13, 1e-15, 0]\n",
        "#gam2_values = [1e-10, 1e-11, 1e-12, 1e-13, 1e-15, 1e-28]#, 1e-15]#, 1e-20]\n",
        "\n",
        "# Different vaues of Cof\n",
        "#Cof_values = [2e-39]\n",
        "#Cof_values = [9e-38, 5e-38, 2e-38, 1e-38, 2e-39]\n",
        "#Cof_values = [1e-16, 1e-20, 2e-30, 2e-38]\n",
        "#Cof_values = [1e-16, 1e-39, 2e-40, 2.7e-40, 5e-40, 1e-40]\n",
        "#Cof_values = [1e-39, 1e-34, 1e-30]\n",
        "Cof_values = [2.4048941720468843e-39]\n",
        "#Cof_values = [1e-39, 2.4048941720468843e-39, 1e-40]\n",
        "Msc_values = [4e16]\n",
        "#Msc_values = [10**(16/4), 10**(28/4)]\n",
        "\n",
        "#r = 2/(3 *np.pi**2 * As) * (Msc_values/mpl)**4"
      ],
      "metadata": {
        "id": "LzzcpRGil0MQ"
      },
      "execution_count": null,
      "outputs": []
    },
    {
      "cell_type": "markdown",
      "source": [
        "# **Entropy & Yields**"
      ],
      "metadata": {
        "id": "gjYsdMC4l8YO"
      }
    },
    {
      "cell_type": "code",
      "source": [
        "# Entropy\n",
        "def s(R,x, Msc):\n",
        "    return ((2 * np.pi**2)/45) * gst * (T(R, x, Msc))**3\n",
        "\n",
        "# Define z = mP/T(R, x)\n",
        "def z(R,x, Msc):\n",
        "    return mPd/T(R, x, Msc)\n",
        "\n",
        "# Define Tmax = mWR/Pi\n",
        "def Tmax(R,x,Msc):\n",
        "    return 1.14e8/mphi(Msc) #mPd/(1.14e8)\n",
        "\n",
        "    # Define Tmax\n",
        "def Tmax0(x, gam0, Msc):\n",
        "    return 0.6/mphi(Msc) * (gam0 * mpl /gst)**(1 / 4) * phiI(Msc)**(1/8)*np.sqrt(mphi(Msc))\n",
        "\n",
        "# Define The yield YD\n",
        "#def YD(D, R, x, Msc):\n",
        "#    return (D * mphi(Msc)**3)/(x**3 * s(R,x, Msc))\n",
        "\n",
        "def YD(D, R, x, Msc):\n",
        "    # Check for potential overflow and handle it\n",
        "    with np.errstate(over='ignore'): # Ignore overflow warnings within this block\n",
        "        result = (D * mphi(Msc)**3)/(x**3 * s(R,x, Msc))\n",
        "\n",
        "    # Check for inf and nan and replace with max/min values\n",
        "    result[np.isinf(result)] = np.finfo(result.dtype).max\n",
        "    result[np.isnan(result)] = 0  # Replace NaN with 0 or another appropriate value\n",
        "\n",
        "    return result\n",
        "\n",
        "# Define omgh2\n",
        "def omgh2(D, x):\n",
        "    return D * 0 + 2.18e-10\n",
        "\n",
        "def omgh22(D, x):\n",
        "    return D * 0 + 4.4e-10"
      ],
      "metadata": {
        "id": "QyIhW3UcmD-P"
      },
      "execution_count": null,
      "outputs": []
    },
    {
      "cell_type": "markdown",
      "source": [
        "# **Solving the Boltzmann Equations**"
      ],
      "metadata": {
        "id": "FLdbEgDymLFd"
      }
    },
    {
      "cell_type": "code",
      "source": [
        "# Solve the BEs for different gam0 & Cof values\n",
        "for Msc in Msc_values:\n",
        "    for Cof in Cof_values:\n",
        "        for gam0 in gam0_values:\n",
        "            for gam2 in gam2_values:\n",
        "              # Solve the BEs\n",
        "                initial_conditions_values = initial_conditions(Msc)\n",
        "                #print(initial_conditions_values)\n",
        "\n",
        "                  # --- Change 1: Using solve_ivp for both boltzmann_eqs and boltzmann_eqs2 ---\n",
        "                solution = solve_ivp(boltzmann_eqs, [x_span[0], x_span[-1]], initial_conditions_values,\n",
        "                                     t_eval=x_span, args=(gam0, gam2, Cof, Msc), method='Radau',\n",
        "                                     rtol=1e-8, atol=1e-8, events=event_rapid_change(gam0, gam2, Cof, Msc))\n",
        "               # solution = solve_ivp(boltzmann_eqs, [x_span[0], x_span[-1]], initial_conditions_values,\n",
        "                #                     t_eval=x_span, args=(gam0, gam2, Cof, Msc), method='Radau',\n",
        "                 #                    rtol=1e-8, atol=1e-8, events=lambda t, y: event_wrapper(t, y, gam0, gam2, Cof, Msc))\n",
        "\n",
        "                # Check if solution was successful before accessing solution.y\n",
        "                if solution.success:\n",
        "                    P = solution.y[0]\n",
        "                    R = solution.y[1]\n",
        "                    D = solution.y[2]\n",
        "                else:\n",
        "                    print(f\"solve_ivp failed for gam0={gam0}, gam2={gam2}, Cof={Cof}, Msc={Msc:.2e}\")\n",
        "                    print(f\"Solution message: {solution.message}\")\n",
        "                    continue  # Skip to the next iteration\n",
        "\n",
        "                solution2 = solve_ivp(boltzmann_eqs2, [x_span[0], x_span[-1]], initial_conditions_values,\n",
        "                                      t_eval=x_span, args=(gam0, gam2, Msc), method='Radau',\n",
        "                                      rtol=1e-8, atol=1e-8, events=event_rapid_change(gam0, gam2, Cof, Msc))\n",
        "                #solution2 = solve_ivp(boltzmann_eqs2, [x_span[0], x_span[-1]], initial_conditions_values,\n",
        "                 #                     t_eval=x_span, args=(gam0, gam2, Cof, Msc), method='Radau',  # Include Cof here\n",
        "                  #                    rtol=1e-8, atol=1e-8, events=lambda t, y: event_wrapper(t, y, gam0, gam2, Cof, Msc))\n",
        "\n",
        "                # Check if solution2 was successful before accessing solution2.y\n",
        "                if solution2.success:\n",
        "                    P2 = solution2.y[0]\n",
        "                    R2 = solution2.y[1]\n",
        "                    D2 = solution2.y[2]\n",
        "                else:\n",
        "                    print(f\"solve_ivp failed for gam0={gam0}, gam2={gam2}, Msc={Msc:.2e}\")\n",
        "                    print(f\"Solution2 message: {solution2.message}\")\n",
        "                    continue  # Skip to the next iteration\n",
        "                # --- End of Change 1 ---\n",
        "\n",
        "                # ... (Rest of your code) ...\n",
        "\n",
        "                # --- Change 2: Print Msc to verify iteration ---\n",
        "                print(f\"The scale of inflation M = {Msc:.2e}\")  # Print Msc for each iteration\n",
        "                # --- End of Change 2 ---\n",
        "\n",
        "                # Calculate z values\n",
        "                z_span= z(R, x_span, Msc)\n",
        "                r = 2/(3 *np.pi**2 * As) * (Msc/mpl)**4\n",
        "                #Print()\n",
        "                print(f'r={r:.2e}')\n",
        "\n",
        "                # Calculate Tmax values\n",
        "                Tmax_values= Tmax(R, x_span, Msc)#/mphi\n",
        "                Tmax_values2= Tmax0(x_span, gam0, Msc)\n",
        "\n",
        "                # Calculate T values\n",
        "                T_values= T(R, x_span, Msc)/mphi(Msc)\n",
        "                mphi_values = mphi(Msc)\n",
        "\n",
        "                # Calculate YD values\n",
        "                YD_values= YD(D, R, x_span, Msc)\n",
        "                YD_values2= YD(D2, R2, x_span, Msc)\n",
        "               # Ratio_values = YD_values2/YD_values\n",
        "\n",
        "                # Calculate omgh2 values\n",
        "                omgh2_values = omgh2(D,x_span)\n",
        "                omgh22_values = omgh22(D, x_span)\n",
        "               # Ratio_values = omgh2(D,x_span)/omgh22(D,x_span)\n",
        "\n",
        "\n",
        "                # Define a new function that uses both R and x\n",
        "                def new_function3(gam0, x):\n",
        "                    return TR(gam0)\n",
        "\n",
        "                # Apply the new function to R and x values\n",
        "                new_function3_values = new_function3(gam0, x_span)\n",
        "\n",
        "\n",
        "                # Plot the results\n",
        "                plt.plot(x_span, YD_values, label=f'YD_Fermi, $\\Gamma_0$ = {gam0:.2e}, $\\Gamma_2$ = {gam2}')\n",
        "                plt.plot(x_span, YD_values2, linestyle=':', label=f'YD_Julia, $\\Gamma_0$ = {gam0:.2e}, $\\Gamma_2$ = {gam2}')\n",
        "                #plt.plot(x_span, Ratio_values, label=f'Ratio, $\\Gamma_0$ = {gam0}, $\\Gamma_2$ = {gam2}, Cof = {Cof} Gev, M = {Msc:.0e}')\n",
        "                plt.plot(x_span, np.full(x_span.shape,omgh22_values), linestyle='dashdot', label=f'$h^2 \\Omega_X$ = {0.12}, $Y_X$ = {4.4e-10}')\n",
        "                #plt.plot(x_span, np.full(x_span.shape,Tmax_values), linestyle='dotted', label=f'Tmax')\n",
        "                #print(f'${{m}}_{{\\Phi}}$={mphi_values:.2e}')\n",
        "                #print(fr'$m_\\Phi$={mphi_values:.2e}')\n",
        "\n",
        "\n",
        "                # Display m_phi with Phi as subscript\n",
        "                display(Math(fr'$m_\\phi = {mphi_values:.2e}$'))\n",
        "\n",
        "\n",
        "plt.grid()\n",
        "plt.xlabel('x')\n",
        "plt.ylabel('$Y_X$')\n",
        "plt.xscale('log')\n",
        "plt.yscale('log')\n",
        "#plt.xlim(1e8, 1e14)\n",
        "#plt.xlim(1e-1, 1e4)\n",
        "#plt.ylim(1e-11, 1e-5)\n",
        "#plt.ylim(4e-10, 5e-10)\n",
        "#plt.ylim(1e-15, 1e-6)\n",
        "#plt.legend()\n",
        "plt.legend(bbox_to_anchor=(1.05, 1), loc='upper left', borderaxespad=0.)\n",
        "plt.title(f'$m_X$ = 1 GeV, $m_P$ = {mPd} GeV, $\\Gamma_P$ = {1.5e-20:.1e} GeV, Cof = {Cof:.2e} Gev, M = {Msc:.2e}')\n",
        "plt.grid()\n",
        "plt.savefig('BEsolution.png')\n",
        "plt.show()\n",
        "\n",
        "\n",
        "\n"
      ],
      "metadata": {
        "colab": {
          "base_uri": "https://localhost:8080/",
          "height": 762
        },
        "id": "3639GUDOmQRJ",
        "outputId": "3cbc06aa-d3fc-4a8f-faff-8bf43ac15ce9"
      },
      "execution_count": null,
      "outputs": [
        {
          "output_type": "stream",
          "name": "stdout",
          "text": [
            "The scale of inflation M = 4.00e+16\n",
            "r=3.72e-03\n"
          ]
        },
        {
          "output_type": "display_data",
          "data": {
            "text/plain": [
              "<IPython.core.display.Math object>"
            ],
            "text/latex": "$\\displaystyle m_\\phi = 1.69e+13$"
          },
          "metadata": {}
        },
        {
          "output_type": "stream",
          "name": "stdout",
          "text": [
            "The scale of inflation M = 4.00e+16\n",
            "r=3.72e-03\n"
          ]
        },
        {
          "output_type": "display_data",
          "data": {
            "text/plain": [
              "<IPython.core.display.Math object>"
            ],
            "text/latex": "$\\displaystyle m_\\phi = 1.69e+13$"
          },
          "metadata": {}
        },
        {
          "output_type": "stream",
          "name": "stdout",
          "text": [
            "The scale of inflation M = 4.00e+16\n",
            "r=3.72e-03\n"
          ]
        },
        {
          "output_type": "display_data",
          "data": {
            "text/plain": [
              "<IPython.core.display.Math object>"
            ],
            "text/latex": "$\\displaystyle m_\\phi = 1.69e+13$"
          },
          "metadata": {}
        },
        {
          "output_type": "stream",
          "name": "stdout",
          "text": [
            "The scale of inflation M = 4.00e+16\n",
            "r=3.72e-03\n"
          ]
        },
        {
          "output_type": "display_data",
          "data": {
            "text/plain": [
              "<IPython.core.display.Math object>"
            ],
            "text/latex": "$\\displaystyle m_\\phi = 1.69e+13$"
          },
          "metadata": {}
        },
        {
          "output_type": "stream",
          "name": "stdout",
          "text": [
            "The scale of inflation M = 4.00e+16\n",
            "r=3.72e-03\n"
          ]
        },
        {
          "output_type": "display_data",
          "data": {
            "text/plain": [
              "<IPython.core.display.Math object>"
            ],
            "text/latex": "$\\displaystyle m_\\phi = 1.69e+13$"
          },
          "metadata": {}
        },
        {
          "output_type": "display_data",
          "data": {
            "text/plain": [
              "<Figure size 640x480 with 1 Axes>"
            ],
            "image/png": "[encoded data removed]"
          },
          "metadata": {}
        }
      ]
    }
  ]
}