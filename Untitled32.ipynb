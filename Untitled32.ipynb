import numpy as np
from scipy.integrate import odeint, quad
import matplotlib.pyplot as plt
from scipy.special import kn
from IPython.display import display, Math
#!pip install scipy
from scipy.integrate import solve_ivp
